{
 "cells": [
  {
   "cell_type": "code",
   "execution_count": 1,
   "metadata": {},
   "outputs": [],
   "source": [
    "import numpy as np\n",
    "import pickle as pkl\n",
    "import networkx as nx\n",
    "import sys\n",
    "import os\n",
    "import scipy.sparse as sp\n",
    "from collections import defaultdict"
   ]
  },
  {
   "cell_type": "markdown",
   "metadata": {},
   "source": [
    "### load_data"
   ]
  },
  {
   "cell_type": "code",
   "execution_count": 2,
   "metadata": {},
   "outputs": [],
   "source": [
    "names = ['x', 'y', 'tx', 'ty', 'allx', 'ally', 'graph']\n",
    "objects = []"
   ]
  },
  {
   "cell_type": "code",
   "execution_count": 3,
   "metadata": {},
   "outputs": [
    {
     "data": {
      "text/plain": [
       "sys.version_info(major=3, minor=6, micro=2, releaselevel='final', serial=0)"
      ]
     },
     "execution_count": 3,
     "metadata": {},
     "output_type": "execute_result"
    }
   ],
   "source": [
    "sys.version_info"
   ]
  },
  {
   "cell_type": "code",
   "execution_count": 4,
   "metadata": {},
   "outputs": [],
   "source": [
    "code_path = os.path.abspath('')\n",
    "dataset_dir = code_path + '' + '/data'\n",
    "dataset_str = 'citeseer'"
   ]
  },
  {
   "cell_type": "code",
   "execution_count": 5,
   "metadata": {},
   "outputs": [],
   "source": [
    "for i in range(len(names)):\n",
    "    with open(dataset_dir + \"/ind.{}.{}\".format(dataset_str, names[i]), 'rb') as f:\n",
    "        objects.append(pkl.load(f, encoding='latin1'))"
   ]
  },
  {
   "cell_type": "code",
   "execution_count": 23,
   "metadata": {},
   "outputs": [
    {
     "data": {
      "text/plain": [
       "(120, 3703)"
      ]
     },
     "execution_count": 23,
     "metadata": {},
     "output_type": "execute_result"
    }
   ],
   "source": [
    "objects[0].shape"
   ]
  },
  {
   "cell_type": "code",
   "execution_count": 25,
   "metadata": {},
   "outputs": [
    {
     "data": {
      "text/plain": [
       "(1000, 3703)"
      ]
     },
     "execution_count": 25,
     "metadata": {},
     "output_type": "execute_result"
    }
   ],
   "source": [
    "objects[2].shape"
   ]
  },
  {
   "cell_type": "code",
   "execution_count": 24,
   "metadata": {},
   "outputs": [
    {
     "data": {
      "text/plain": [
       "(2312, 3703)"
      ]
     },
     "execution_count": 24,
     "metadata": {},
     "output_type": "execute_result"
    }
   ],
   "source": [
    "objects[4].shape"
   ]
  },
  {
   "cell_type": "code",
   "execution_count": 8,
   "metadata": {
    "collapsed": true,
    "jupyter": {
     "outputs_hidden": true
    }
   },
   "outputs": [
    {
     "name": "stdout",
     "output_type": "stream",
     "text": [
      "  (0, 184)\t1.0\n",
      "  (0, 257)\t1.0\n",
      "  (0, 362)\t1.0\n",
      "  (0, 560)\t1.0\n",
      "  (0, 565)\t1.0\n",
      "  (0, 597)\t1.0\n",
      "  (0, 600)\t1.0\n",
      "  (0, 601)\t1.0\n",
      "  (0, 637)\t1.0\n",
      "  (0, 729)\t1.0\n",
      "  (0, 805)\t1.0\n",
      "  (0, 816)\t1.0\n",
      "  (0, 942)\t1.0\n",
      "  (0, 1116)\t1.0\n",
      "  (0, 1435)\t1.0\n",
      "  (0, 1545)\t1.0\n",
      "  (0, 1623)\t1.0\n",
      "  (0, 1635)\t1.0\n",
      "  (0, 1846)\t1.0\n",
      "  (0, 2085)\t1.0\n",
      "  (0, 2338)\t1.0\n",
      "  (0, 2343)\t1.0\n",
      "  (0, 2565)\t1.0\n",
      "  (0, 2604)\t1.0\n",
      "  (0, 2696)\t1.0\n",
      "  (0, 2741)\t1.0\n",
      "  (0, 2918)\t1.0\n",
      "  (0, 2970)\t1.0\n",
      "  (0, 3502)\t1.0\n",
      "  (0, 3548)\t1.0\n",
      "  (0, 3647)\t1.0\n"
     ]
    }
   ],
   "source": [
    "# sparse adjancency matrix!\n",
    "print(objects[0][0])"
   ]
  },
  {
   "cell_type": "code",
   "execution_count": null,
   "metadata": {},
   "outputs": [],
   "source": [
    "print(objects[0][0])"
   ]
  },
  {
   "cell_type": "code",
   "execution_count": 17,
   "metadata": {},
   "outputs": [],
   "source": [
    "arr_train = []\n",
    "arr_test = []\n",
    "arr = []\n",
    "\n",
    "with open('movie/train_2008.edge', 'r') as file:\n",
    "    for line in file.readlines():\n",
    "        p1, p2 = line.split()\n",
    "        arr_train.append((int(p1)-1, int(p2)-1))\n",
    "        arr.append((int(p1)-1, int(p2)-1))\n",
    "\n",
    "with open('movie/test_2009.edge', 'r') as file:\n",
    "    for line in file.readlines():\n",
    "        p1, p2 = line.split()\n",
    "        arr.append((int(p1)-1, int(p2)-1))\n",
    "        arr_test.append((int(p1)-1, int(p2)-1))        "
   ]
  },
  {
   "cell_type": "code",
   "execution_count": 21,
   "metadata": {},
   "outputs": [
    {
     "data": {
      "text/plain": [
       "473831"
      ]
     },
     "execution_count": 21,
     "metadata": {},
     "output_type": "execute_result"
    }
   ],
   "source": [
    "len(arr)"
   ]
  },
  {
   "cell_type": "code",
   "execution_count": 20,
   "metadata": {},
   "outputs": [
    {
     "data": {
      "text/plain": [
       "472848"
      ]
     },
     "execution_count": 20,
     "metadata": {},
     "output_type": "execute_result"
    }
   ],
   "source": [
    "len(arr_train)"
   ]
  },
  {
   "cell_type": "code",
   "execution_count": 19,
   "metadata": {},
   "outputs": [
    {
     "data": {
      "text/plain": [
       "983"
      ]
     },
     "execution_count": 19,
     "metadata": {},
     "output_type": "execute_result"
    }
   ],
   "source": [
    "len(arr_test)"
   ]
  },
  {
   "cell_type": "markdown",
   "metadata": {},
   "source": [
    "### Get graph with edges"
   ]
  },
  {
   "cell_type": "code",
   "execution_count": 31,
   "metadata": {},
   "outputs": [],
   "source": [
    "graph = defaultdict(list)"
   ]
  },
  {
   "cell_type": "code",
   "execution_count": 48,
   "metadata": {},
   "outputs": [],
   "source": [
    "for x, y in arr:\n",
    "    graph[x].append(y)\n",
    "    graph[y].append(x)"
   ]
  },
  {
   "cell_type": "code",
   "execution_count": 57,
   "metadata": {},
   "outputs": [],
   "source": [
    "with open('movie/ind.movie.graph','wb') as f:\n",
    "    pkl.dump(graph,f, pkl.HIGHEST_PROTOCOL)  "
   ]
  },
  {
   "cell_type": "markdown",
   "metadata": {},
   "source": [
    "### Only want nodes with edges"
   ]
  },
  {
   "cell_type": "code",
   "execution_count": 87,
   "metadata": {},
   "outputs": [],
   "source": [
    "keys = list(graph.keys())"
   ]
  },
  {
   "cell_type": "markdown",
   "metadata": {},
   "source": [
    "### Get `y`"
   ]
  },
  {
   "cell_type": "code",
   "execution_count": 64,
   "metadata": {},
   "outputs": [],
   "source": [
    "tmp = []\n",
    "with open('movie/labels.csv') as file:\n",
    "    tmp = file.readlines()\n",
    "tmp = tmp[1:]"
   ]
  },
  {
   "cell_type": "code",
   "execution_count": 168,
   "metadata": {},
   "outputs": [],
   "source": [
    "NUM_CLASS = 20\n",
    "ally = []\n",
    "\n",
    "for i, line in enumerate(tmp):\n",
    "    if i in keys:\n",
    "        t = line.strip().split(',')[-1][1:-1]\n",
    "        label = t.split()\n",
    "        label = list(map(int, label))\n",
    "        a = np.zeros(NUM_CLASS)\n",
    "        a[label] = 1\n",
    "        ally.append(a)"
   ]
  },
  {
   "cell_type": "code",
   "execution_count": 169,
   "metadata": {},
   "outputs": [],
   "source": [
    "ally = np.array(ally)"
   ]
  },
  {
   "cell_type": "code",
   "execution_count": 170,
   "metadata": {},
   "outputs": [],
   "source": [
    "# 18, 19 are too few\n",
    "idxs = [i for i in range(0, 18)]\n",
    "ally = ally[:, idxs]"
   ]
  },
  {
   "cell_type": "code",
   "execution_count": 171,
   "metadata": {},
   "outputs": [
    {
     "data": {
      "text/plain": [
       "(2439, 18)"
      ]
     },
     "execution_count": 171,
     "metadata": {},
     "output_type": "execute_result"
    }
   ],
   "source": [
    "ally.shape"
   ]
  },
  {
   "cell_type": "code",
   "execution_count": 172,
   "metadata": {},
   "outputs": [],
   "source": [
    "with open('movie/ind.movie.ally','wb') as f:\n",
    "    pkl.dump(ally,f)  "
   ]
  },
  {
   "cell_type": "code",
   "execution_count": 155,
   "metadata": {},
   "outputs": [
    {
     "data": {
      "text/plain": [
       "array([  19,   26,   28,   38,   40,   70,   76,   77,   92,   93,   97,\n",
       "        189,  253,  269,  283,  348,  385,  389,  392,  425,  426,  428,\n",
       "        437,  446,  451,  567,  586,  596,  600,  615,  656,  663,  665,\n",
       "        671,  692,  702,  739,  755,  756,  780,  781,  804,  810,  812,\n",
       "        820,  855,  909,  948,  961,  963,  965,  972,  994, 1002, 1011,\n",
       "       1037, 1067, 1072, 1094, 1169, 1173, 1193, 1204, 1211, 1219, 1291,\n",
       "       1299, 1352, 1357, 1386, 1393, 1410, 1427, 1468, 1497, 1570, 1587,\n",
       "       1605, 1607, 1608, 1676, 1699, 1702, 1715, 1729, 1730, 1733, 1738,\n",
       "       1755, 1762, 1765, 1794, 1821, 1831, 1858, 1905, 1914, 1918, 1998,\n",
       "       2028, 2039, 2040, 2066, 2114, 2115, 2117, 2120, 2150, 2156, 2162,\n",
       "       2171, 2177, 2180, 2253, 2284, 2303, 2323, 2401, 2417])"
      ]
     },
     "execution_count": 155,
     "metadata": {},
     "output_type": "execute_result"
    }
   ],
   "source": [
    " np.where(ally[:, 10] == 1)[0]"
   ]
  },
  {
   "cell_type": "code",
   "execution_count": 143,
   "metadata": {},
   "outputs": [
    {
     "data": {
      "text/plain": [
       "array([0., 0., 0., ..., 1., 0., 0.])"
      ]
     },
     "execution_count": 143,
     "metadata": {},
     "output_type": "execute_result"
    }
   ],
   "source": [
    "ally[:, 0]"
   ]
  },
  {
   "cell_type": "markdown",
   "metadata": {},
   "source": [
    "### Get `x`"
   ]
  },
  {
   "cell_type": "code",
   "execution_count": 104,
   "metadata": {},
   "outputs": [],
   "source": [
    "new_index = {key:idx for idx, key in enumerate(keys)}"
   ]
  },
  {
   "cell_type": "code",
   "execution_count": 106,
   "metadata": {},
   "outputs": [],
   "source": [
    "allx = sp.lil_matrix((len(keys), len(keys)), dtype=int)\n",
    "\n",
    "for x, y in arr:\n",
    "    allx[new_index[x], new_index[y]] = 1\n",
    "      \n",
    "allx = allx.tocsr()"
   ]
  },
  {
   "cell_type": "markdown",
   "metadata": {},
   "source": [
    "### Create split data"
   ]
  },
  {
   "cell_type": "code",
   "execution_count": 110,
   "metadata": {},
   "outputs": [],
   "source": [
    "# start from 2028 is test data\n",
    "test_idx = new_index[25766]"
   ]
  },
  {
   "cell_type": "code",
   "execution_count": 115,
   "metadata": {},
   "outputs": [],
   "source": [
    "with open('movie/ind.movie.allx','wb') as f:\n",
    "    pkl.dump(allx,f)  "
   ]
  },
  {
   "cell_type": "code",
   "execution_count": 116,
   "metadata": {},
   "outputs": [],
   "source": [
    "with open('movie/ind.movie.tx','wb') as f:\n",
    "    pkl.dump(allx[:test_idx],f)  \n",
    "    \n",
    "with open('movie/ind.movie.ty','wb') as f:\n",
    "    pkl.dump(ally[:test_idx],f)  "
   ]
  },
  {
   "cell_type": "code",
   "execution_count": 121,
   "metadata": {},
   "outputs": [],
   "source": [
    "with open('movie/ind.movie.x','wb') as f:\n",
    "    pkl.dump(allx[test_idx:],f)  \n",
    "    \n",
    "with open('movie/ind.movie.y','wb') as f:\n",
    "    pkl.dump(ally[test_idx:],f)  "
   ]
  },
  {
   "cell_type": "code",
   "execution_count": 122,
   "metadata": {},
   "outputs": [],
   "source": [
    "def parse_index_file(filename):\n",
    "    \"\"\"Parse index file.\"\"\"\n",
    "    index = []\n",
    "    for line in open(filename):\n",
    "        index.append(int(line.strip()))\n",
    "    return index"
   ]
  },
  {
   "cell_type": "code",
   "execution_count": 123,
   "metadata": {},
   "outputs": [],
   "source": [
    "idx_file = parse_index_file(dataset_dir + \"/ind.{}.test.index\".format(dataset_str))"
   ]
  },
  {
   "cell_type": "code",
   "execution_count": null,
   "metadata": {},
   "outputs": [],
   "source": []
  }
 ],
 "metadata": {
  "kernelspec": {
   "display_name": "keras",
   "language": "python",
   "name": "keras"
  },
  "language_info": {
   "codemirror_mode": {
    "name": "ipython",
    "version": 3
   },
   "file_extension": ".py",
   "mimetype": "text/x-python",
   "name": "python",
   "nbconvert_exporter": "python",
   "pygments_lexer": "ipython3",
   "version": "3.6.2"
  }
 },
 "nbformat": 4,
 "nbformat_minor": 4
}
